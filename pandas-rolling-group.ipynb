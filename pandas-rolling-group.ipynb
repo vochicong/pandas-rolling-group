{
 "cells": [
  {
   "cell_type": "code",
   "execution_count": 1,
   "metadata": {},
   "outputs": [],
   "source": [
    "import pandas as pd\n",
    "import numpy as np"
   ]
  },
  {
   "cell_type": "code",
   "execution_count": 2,
   "metadata": {},
   "outputs": [],
   "source": [
    "from IPython.core.interactiveshell import InteractiveShell\n",
    "InteractiveShell.ast_node_interactivity = \"last_expr_or_assign\""
   ]
  },
  {
   "cell_type": "markdown",
   "metadata": {},
   "source": [
    "# Rolling mean by Pandas DataFrame Groups\n",
    "\n",
    "Let say in a Pandas DataFrame we have a date column, several categorical columns and a target column.\n",
    "We would like to compute a rolling mean of the target, for one or two categories, and for a specific date window.\n",
    "\n",
    "First we will create some sample data, then we review the normal Pandas DataFrame rolling method, and finally we will try to do rolling by groups."
   ]
  },
  {
   "cell_type": "markdown",
   "metadata": {},
   "source": [
    "## Sample data"
   ]
  },
  {
   "cell_type": "code",
   "execution_count": 3,
   "metadata": {},
   "outputs": [
    {
     "data": {
      "text/plain": [
       "365"
      ]
     },
     "execution_count": 3,
     "metadata": {},
     "output_type": "execute_result"
    }
   ],
   "source": [
    "# We will make a DataFrame of this number of rows\n",
    "n_row = 20_000_000\n",
    "n_date = 365"
   ]
  },
  {
   "cell_type": "code",
   "execution_count": 4,
   "metadata": {},
   "outputs": [
    {
     "data": {
      "text/plain": [
       "0     2022-01-01\n",
       "1     2022-01-02\n",
       "2     2022-01-04\n",
       "3     2022-01-05\n",
       "4     2022-01-06\n",
       "         ...    \n",
       "287   2022-12-26\n",
       "288   2022-12-27\n",
       "289   2022-12-28\n",
       "290   2022-12-30\n",
       "291   2022-12-31\n",
       "Length: 292, dtype: datetime64[ns]"
      ]
     },
     "execution_count": 4,
     "metadata": {},
     "output_type": "execute_result"
    }
   ],
   "source": [
    "# Set the dates of interest\n",
    "start_date = pd.Timestamp(year=2022, month=1, day=1)\n",
    "all_dates_full = pd.date_range(start=start_date, periods=n_date)\n",
    "all_dates = np.random.choice(all_dates_full, size=n_date*4//5, replace=False)\n",
    "all_dates.sort()\n",
    "pd.Series(all_dates)"
   ]
  },
  {
   "cell_type": "code",
   "execution_count": 5,
   "metadata": {},
   "outputs": [
    {
     "data": {
      "text/plain": [
       "['A', 'B', 'C']"
      ]
     },
     "execution_count": 5,
     "metadata": {},
     "output_type": "execute_result"
    }
   ],
   "source": [
    "# A category (group)\n",
    "groups = list(\"ABC\")"
   ]
  },
  {
   "cell_type": "code",
   "execution_count": 6,
   "metadata": {},
   "outputs": [
    {
     "data": {
      "text/plain": [
       "[0, 1]"
      ]
     },
     "execution_count": 6,
     "metadata": {},
     "output_type": "execute_result"
    }
   ],
   "source": [
    "# The target (response)\n",
    "targets = [0, 1]"
   ]
  },
  {
   "cell_type": "code",
   "execution_count": 7,
   "metadata": {},
   "outputs": [
    {
     "data": {
      "text/html": [
       "<div>\n",
       "<style scoped>\n",
       "    .dataframe tbody tr th:only-of-type {\n",
       "        vertical-align: middle;\n",
       "    }\n",
       "\n",
       "    .dataframe tbody tr th {\n",
       "        vertical-align: top;\n",
       "    }\n",
       "\n",
       "    .dataframe thead th {\n",
       "        text-align: right;\n",
       "    }\n",
       "</style>\n",
       "<table border=\"1\" class=\"dataframe\">\n",
       "  <thead>\n",
       "    <tr style=\"text-align: right;\">\n",
       "      <th></th>\n",
       "      <th>ts</th>\n",
       "      <th>gr</th>\n",
       "      <th>y</th>\n",
       "    </tr>\n",
       "  </thead>\n",
       "  <tbody>\n",
       "    <tr>\n",
       "      <th>11</th>\n",
       "      <td>2022-01-01</td>\n",
       "      <td>A</td>\n",
       "      <td>1</td>\n",
       "    </tr>\n",
       "    <tr>\n",
       "      <th>1266</th>\n",
       "      <td>2022-01-01</td>\n",
       "      <td>A</td>\n",
       "      <td>1</td>\n",
       "    </tr>\n",
       "    <tr>\n",
       "      <th>2019</th>\n",
       "      <td>2022-01-01</td>\n",
       "      <td>A</td>\n",
       "      <td>0</td>\n",
       "    </tr>\n",
       "    <tr>\n",
       "      <th>5166</th>\n",
       "      <td>2022-01-01</td>\n",
       "      <td>A</td>\n",
       "      <td>1</td>\n",
       "    </tr>\n",
       "    <tr>\n",
       "      <th>5387</th>\n",
       "      <td>2022-01-01</td>\n",
       "      <td>A</td>\n",
       "      <td>1</td>\n",
       "    </tr>\n",
       "    <tr>\n",
       "      <th>...</th>\n",
       "      <td>...</td>\n",
       "      <td>...</td>\n",
       "      <td>...</td>\n",
       "    </tr>\n",
       "    <tr>\n",
       "      <th>19997170</th>\n",
       "      <td>2022-12-31</td>\n",
       "      <td>C</td>\n",
       "      <td>0</td>\n",
       "    </tr>\n",
       "    <tr>\n",
       "      <th>19997608</th>\n",
       "      <td>2022-12-31</td>\n",
       "      <td>C</td>\n",
       "      <td>0</td>\n",
       "    </tr>\n",
       "    <tr>\n",
       "      <th>19998292</th>\n",
       "      <td>2022-12-31</td>\n",
       "      <td>C</td>\n",
       "      <td>0</td>\n",
       "    </tr>\n",
       "    <tr>\n",
       "      <th>19999115</th>\n",
       "      <td>2022-12-31</td>\n",
       "      <td>C</td>\n",
       "      <td>1</td>\n",
       "    </tr>\n",
       "    <tr>\n",
       "      <th>19999276</th>\n",
       "      <td>2022-12-31</td>\n",
       "      <td>C</td>\n",
       "      <td>1</td>\n",
       "    </tr>\n",
       "  </tbody>\n",
       "</table>\n",
       "<p>20000000 rows × 3 columns</p>\n",
       "</div>"
      ],
      "text/plain": [
       "                 ts gr  y\n",
       "11       2022-01-01  A  1\n",
       "1266     2022-01-01  A  1\n",
       "2019     2022-01-01  A  0\n",
       "5166     2022-01-01  A  1\n",
       "5387     2022-01-01  A  1\n",
       "...             ... .. ..\n",
       "19997170 2022-12-31  C  0\n",
       "19997608 2022-12-31  C  0\n",
       "19998292 2022-12-31  C  0\n",
       "19999115 2022-12-31  C  1\n",
       "19999276 2022-12-31  C  1\n",
       "\n",
       "[20000000 rows x 3 columns]"
      ]
     },
     "execution_count": 7,
     "metadata": {},
     "output_type": "execute_result"
    }
   ],
   "source": [
    "df = pd.DataFrame(dict(\n",
    "    ts=pd.Series(np.random.choice(all_dates, n_row)),\n",
    "    gr=pd.Series(np.random.choice(groups, n_row)),\n",
    "    y=pd.Series(np.random.choice(targets, n_row)),\n",
    ")).sort_values([\"ts\", \"gr\"])"
   ]
  },
  {
   "cell_type": "markdown",
   "metadata": {},
   "source": [
    "## Normal Pandas rolling\n",
    "\n",
    "Now look at how Pandas can do rolling."
   ]
  },
  {
   "cell_type": "code",
   "execution_count": 8,
   "metadata": {},
   "outputs": [
    {
     "data": {
      "text/plain": [
       "ts\n",
       "2022-01-01    1.000000\n",
       "2022-01-01    1.000000\n",
       "2022-01-01    0.666667\n",
       "2022-01-01    0.750000\n",
       "2022-01-01    0.800000\n",
       "                ...   \n",
       "2022-12-31    0.501974\n",
       "2022-12-31    0.501970\n",
       "2022-12-31    0.501966\n",
       "2022-12-31    0.501970\n",
       "2022-12-31    0.501973\n",
       "Name: y, Length: 20000000, dtype: float64"
      ]
     },
     "execution_count": 8,
     "metadata": {},
     "output_type": "execute_result"
    }
   ],
   "source": [
    "df.set_index(\"ts\").rolling(\"2D\")[\"y\"].mean()"
   ]
  },
  {
   "cell_type": "markdown",
   "metadata": {},
   "source": [
    "## Roll by group\n",
    "\n",
    "Now let's roll in a group."
   ]
  },
  {
   "cell_type": "code",
   "execution_count": 9,
   "metadata": {},
   "outputs": [
    {
     "data": {
      "text/html": [
       "<div>\n",
       "<style scoped>\n",
       "    .dataframe tbody tr th:only-of-type {\n",
       "        vertical-align: middle;\n",
       "    }\n",
       "\n",
       "    .dataframe tbody tr th {\n",
       "        vertical-align: top;\n",
       "    }\n",
       "\n",
       "    .dataframe thead th {\n",
       "        text-align: right;\n",
       "    }\n",
       "</style>\n",
       "<table border=\"1\" class=\"dataframe\">\n",
       "  <thead>\n",
       "    <tr style=\"text-align: right;\">\n",
       "      <th></th>\n",
       "      <th></th>\n",
       "      <th>sum</th>\n",
       "      <th>count</th>\n",
       "    </tr>\n",
       "    <tr>\n",
       "      <th>gr</th>\n",
       "      <th>ts</th>\n",
       "      <th></th>\n",
       "      <th></th>\n",
       "    </tr>\n",
       "  </thead>\n",
       "  <tbody>\n",
       "    <tr>\n",
       "      <th rowspan=\"5\" valign=\"top\">A</th>\n",
       "      <th>2022-01-01</th>\n",
       "      <td>11325</td>\n",
       "      <td>22813</td>\n",
       "    </tr>\n",
       "    <tr>\n",
       "      <th>2022-01-02</th>\n",
       "      <td>11501</td>\n",
       "      <td>22905</td>\n",
       "    </tr>\n",
       "    <tr>\n",
       "      <th>2022-01-04</th>\n",
       "      <td>11271</td>\n",
       "      <td>22826</td>\n",
       "    </tr>\n",
       "    <tr>\n",
       "      <th>2022-01-05</th>\n",
       "      <td>11373</td>\n",
       "      <td>22824</td>\n",
       "    </tr>\n",
       "    <tr>\n",
       "      <th>2022-01-06</th>\n",
       "      <td>11385</td>\n",
       "      <td>22668</td>\n",
       "    </tr>\n",
       "    <tr>\n",
       "      <th>...</th>\n",
       "      <th>...</th>\n",
       "      <td>...</td>\n",
       "      <td>...</td>\n",
       "    </tr>\n",
       "    <tr>\n",
       "      <th rowspan=\"5\" valign=\"top\">C</th>\n",
       "      <th>2022-12-26</th>\n",
       "      <td>11119</td>\n",
       "      <td>22600</td>\n",
       "    </tr>\n",
       "    <tr>\n",
       "      <th>2022-12-27</th>\n",
       "      <td>11610</td>\n",
       "      <td>23242</td>\n",
       "    </tr>\n",
       "    <tr>\n",
       "      <th>2022-12-28</th>\n",
       "      <td>11412</td>\n",
       "      <td>22788</td>\n",
       "    </tr>\n",
       "    <tr>\n",
       "      <th>2022-12-30</th>\n",
       "      <td>11368</td>\n",
       "      <td>22877</td>\n",
       "    </tr>\n",
       "    <tr>\n",
       "      <th>2022-12-31</th>\n",
       "      <td>11430</td>\n",
       "      <td>22844</td>\n",
       "    </tr>\n",
       "  </tbody>\n",
       "</table>\n",
       "<p>876 rows × 2 columns</p>\n",
       "</div>"
      ],
      "text/plain": [
       "                 sum  count\n",
       "gr ts                      \n",
       "A  2022-01-01  11325  22813\n",
       "   2022-01-02  11501  22905\n",
       "   2022-01-04  11271  22826\n",
       "   2022-01-05  11373  22824\n",
       "   2022-01-06  11385  22668\n",
       "...              ...    ...\n",
       "C  2022-12-26  11119  22600\n",
       "   2022-12-27  11610  23242\n",
       "   2022-12-28  11412  22788\n",
       "   2022-12-30  11368  22877\n",
       "   2022-12-31  11430  22844\n",
       "\n",
       "[876 rows x 2 columns]"
      ]
     },
     "execution_count": 9,
     "metadata": {},
     "output_type": "execute_result"
    }
   ],
   "source": [
    "df_gr = df.groupby([\"gr\", \"ts\"])[\"y\"].agg([\"sum\", \"count\"])"
   ]
  },
  {
   "cell_type": "markdown",
   "metadata": {},
   "source": [
    "As you can see above, it is easy and fast to do normal groupby aggregation.\n",
    "Now, to compute the rolling mean for group A for 1 week, we have to consider both the mean for each day and the corresponding count."
   ]
  },
  {
   "cell_type": "code",
   "execution_count": 10,
   "metadata": {},
   "outputs": [
    {
     "data": {
      "text/html": [
       "<div>\n",
       "<style scoped>\n",
       "    .dataframe tbody tr th:only-of-type {\n",
       "        vertical-align: middle;\n",
       "    }\n",
       "\n",
       "    .dataframe tbody tr th {\n",
       "        vertical-align: top;\n",
       "    }\n",
       "\n",
       "    .dataframe thead th {\n",
       "        text-align: right;\n",
       "    }\n",
       "</style>\n",
       "<table border=\"1\" class=\"dataframe\">\n",
       "  <thead>\n",
       "    <tr style=\"text-align: right;\">\n",
       "      <th></th>\n",
       "      <th>sum</th>\n",
       "      <th>count</th>\n",
       "    </tr>\n",
       "    <tr>\n",
       "      <th>ts</th>\n",
       "      <th></th>\n",
       "      <th></th>\n",
       "    </tr>\n",
       "  </thead>\n",
       "  <tbody>\n",
       "    <tr>\n",
       "      <th>2022-01-01</th>\n",
       "      <td>11325</td>\n",
       "      <td>22813</td>\n",
       "    </tr>\n",
       "    <tr>\n",
       "      <th>2022-01-02</th>\n",
       "      <td>11501</td>\n",
       "      <td>22905</td>\n",
       "    </tr>\n",
       "    <tr>\n",
       "      <th>2022-01-04</th>\n",
       "      <td>11271</td>\n",
       "      <td>22826</td>\n",
       "    </tr>\n",
       "    <tr>\n",
       "      <th>2022-01-05</th>\n",
       "      <td>11373</td>\n",
       "      <td>22824</td>\n",
       "    </tr>\n",
       "    <tr>\n",
       "      <th>2022-01-06</th>\n",
       "      <td>11385</td>\n",
       "      <td>22668</td>\n",
       "    </tr>\n",
       "    <tr>\n",
       "      <th>...</th>\n",
       "      <td>...</td>\n",
       "      <td>...</td>\n",
       "    </tr>\n",
       "    <tr>\n",
       "      <th>2022-12-26</th>\n",
       "      <td>11355</td>\n",
       "      <td>22679</td>\n",
       "    </tr>\n",
       "    <tr>\n",
       "      <th>2022-12-27</th>\n",
       "      <td>11266</td>\n",
       "      <td>22572</td>\n",
       "    </tr>\n",
       "    <tr>\n",
       "      <th>2022-12-28</th>\n",
       "      <td>11599</td>\n",
       "      <td>22922</td>\n",
       "    </tr>\n",
       "    <tr>\n",
       "      <th>2022-12-30</th>\n",
       "      <td>11545</td>\n",
       "      <td>22799</td>\n",
       "    </tr>\n",
       "    <tr>\n",
       "      <th>2022-12-31</th>\n",
       "      <td>11532</td>\n",
       "      <td>22952</td>\n",
       "    </tr>\n",
       "  </tbody>\n",
       "</table>\n",
       "<p>292 rows × 2 columns</p>\n",
       "</div>"
      ],
      "text/plain": [
       "              sum  count\n",
       "ts                      \n",
       "2022-01-01  11325  22813\n",
       "2022-01-02  11501  22905\n",
       "2022-01-04  11271  22826\n",
       "2022-01-05  11373  22824\n",
       "2022-01-06  11385  22668\n",
       "...           ...    ...\n",
       "2022-12-26  11355  22679\n",
       "2022-12-27  11266  22572\n",
       "2022-12-28  11599  22922\n",
       "2022-12-30  11545  22799\n",
       "2022-12-31  11532  22952\n",
       "\n",
       "[292 rows x 2 columns]"
      ]
     },
     "execution_count": 10,
     "metadata": {},
     "output_type": "execute_result"
    }
   ],
   "source": [
    "df_gr.loc[\"A\"]"
   ]
  },
  {
   "cell_type": "code",
   "execution_count": 11,
   "metadata": {},
   "outputs": [
    {
     "data": {
      "text/html": [
       "<div>\n",
       "<style scoped>\n",
       "    .dataframe tbody tr th:only-of-type {\n",
       "        vertical-align: middle;\n",
       "    }\n",
       "\n",
       "    .dataframe tbody tr th {\n",
       "        vertical-align: top;\n",
       "    }\n",
       "\n",
       "    .dataframe thead th {\n",
       "        text-align: right;\n",
       "    }\n",
       "</style>\n",
       "<table border=\"1\" class=\"dataframe\">\n",
       "  <thead>\n",
       "    <tr style=\"text-align: right;\">\n",
       "      <th></th>\n",
       "      <th>sum</th>\n",
       "      <th>count</th>\n",
       "    </tr>\n",
       "  </thead>\n",
       "  <tbody>\n",
       "    <tr>\n",
       "      <th>2022-01-01</th>\n",
       "      <td>11325.0</td>\n",
       "      <td>22813.0</td>\n",
       "    </tr>\n",
       "    <tr>\n",
       "      <th>2022-01-02</th>\n",
       "      <td>11501.0</td>\n",
       "      <td>22905.0</td>\n",
       "    </tr>\n",
       "    <tr>\n",
       "      <th>2022-01-03</th>\n",
       "      <td>NaN</td>\n",
       "      <td>NaN</td>\n",
       "    </tr>\n",
       "    <tr>\n",
       "      <th>2022-01-04</th>\n",
       "      <td>11271.0</td>\n",
       "      <td>22826.0</td>\n",
       "    </tr>\n",
       "    <tr>\n",
       "      <th>2022-01-05</th>\n",
       "      <td>11373.0</td>\n",
       "      <td>22824.0</td>\n",
       "    </tr>\n",
       "    <tr>\n",
       "      <th>...</th>\n",
       "      <td>...</td>\n",
       "      <td>...</td>\n",
       "    </tr>\n",
       "    <tr>\n",
       "      <th>2022-12-27</th>\n",
       "      <td>11266.0</td>\n",
       "      <td>22572.0</td>\n",
       "    </tr>\n",
       "    <tr>\n",
       "      <th>2022-12-28</th>\n",
       "      <td>11599.0</td>\n",
       "      <td>22922.0</td>\n",
       "    </tr>\n",
       "    <tr>\n",
       "      <th>2022-12-29</th>\n",
       "      <td>NaN</td>\n",
       "      <td>NaN</td>\n",
       "    </tr>\n",
       "    <tr>\n",
       "      <th>2022-12-30</th>\n",
       "      <td>11545.0</td>\n",
       "      <td>22799.0</td>\n",
       "    </tr>\n",
       "    <tr>\n",
       "      <th>2022-12-31</th>\n",
       "      <td>11532.0</td>\n",
       "      <td>22952.0</td>\n",
       "    </tr>\n",
       "  </tbody>\n",
       "</table>\n",
       "<p>365 rows × 2 columns</p>\n",
       "</div>"
      ],
      "text/plain": [
       "                sum    count\n",
       "2022-01-01  11325.0  22813.0\n",
       "2022-01-02  11501.0  22905.0\n",
       "2022-01-03      NaN      NaN\n",
       "2022-01-04  11271.0  22826.0\n",
       "2022-01-05  11373.0  22824.0\n",
       "...             ...      ...\n",
       "2022-12-27  11266.0  22572.0\n",
       "2022-12-28  11599.0  22922.0\n",
       "2022-12-29      NaN      NaN\n",
       "2022-12-30  11545.0  22799.0\n",
       "2022-12-31  11532.0  22952.0\n",
       "\n",
       "[365 rows x 2 columns]"
      ]
     },
     "execution_count": 11,
     "metadata": {},
     "output_type": "execute_result"
    }
   ],
   "source": [
    "dfa = df_gr.loc[\"A\"].reindex(all_dates_full) #.fillna(0)"
   ]
  },
  {
   "cell_type": "code",
   "execution_count": 12,
   "metadata": {},
   "outputs": [
    {
     "data": {
      "text/html": [
       "<div>\n",
       "<style scoped>\n",
       "    .dataframe tbody tr th:only-of-type {\n",
       "        vertical-align: middle;\n",
       "    }\n",
       "\n",
       "    .dataframe tbody tr th {\n",
       "        vertical-align: top;\n",
       "    }\n",
       "\n",
       "    .dataframe thead th {\n",
       "        text-align: right;\n",
       "    }\n",
       "</style>\n",
       "<table border=\"1\" class=\"dataframe\">\n",
       "  <thead>\n",
       "    <tr style=\"text-align: right;\">\n",
       "      <th></th>\n",
       "      <th>sum_roll</th>\n",
       "      <th>count_roll</th>\n",
       "    </tr>\n",
       "  </thead>\n",
       "  <tbody>\n",
       "    <tr>\n",
       "      <th>2022-01-01</th>\n",
       "      <td>11325.0</td>\n",
       "      <td>22813.0</td>\n",
       "    </tr>\n",
       "    <tr>\n",
       "      <th>2022-01-02</th>\n",
       "      <td>22826.0</td>\n",
       "      <td>45718.0</td>\n",
       "    </tr>\n",
       "    <tr>\n",
       "      <th>2022-01-03</th>\n",
       "      <td>11501.0</td>\n",
       "      <td>22905.0</td>\n",
       "    </tr>\n",
       "    <tr>\n",
       "      <th>2022-01-04</th>\n",
       "      <td>11271.0</td>\n",
       "      <td>22826.0</td>\n",
       "    </tr>\n",
       "    <tr>\n",
       "      <th>2022-01-05</th>\n",
       "      <td>22644.0</td>\n",
       "      <td>45650.0</td>\n",
       "    </tr>\n",
       "    <tr>\n",
       "      <th>...</th>\n",
       "      <td>...</td>\n",
       "      <td>...</td>\n",
       "    </tr>\n",
       "    <tr>\n",
       "      <th>2022-12-27</th>\n",
       "      <td>22621.0</td>\n",
       "      <td>45251.0</td>\n",
       "    </tr>\n",
       "    <tr>\n",
       "      <th>2022-12-28</th>\n",
       "      <td>22865.0</td>\n",
       "      <td>45494.0</td>\n",
       "    </tr>\n",
       "    <tr>\n",
       "      <th>2022-12-29</th>\n",
       "      <td>11599.0</td>\n",
       "      <td>22922.0</td>\n",
       "    </tr>\n",
       "    <tr>\n",
       "      <th>2022-12-30</th>\n",
       "      <td>11545.0</td>\n",
       "      <td>22799.0</td>\n",
       "    </tr>\n",
       "    <tr>\n",
       "      <th>2022-12-31</th>\n",
       "      <td>23077.0</td>\n",
       "      <td>45751.0</td>\n",
       "    </tr>\n",
       "  </tbody>\n",
       "</table>\n",
       "<p>365 rows × 2 columns</p>\n",
       "</div>"
      ],
      "text/plain": [
       "            sum_roll  count_roll\n",
       "2022-01-01   11325.0     22813.0\n",
       "2022-01-02   22826.0     45718.0\n",
       "2022-01-03   11501.0     22905.0\n",
       "2022-01-04   11271.0     22826.0\n",
       "2022-01-05   22644.0     45650.0\n",
       "...              ...         ...\n",
       "2022-12-27   22621.0     45251.0\n",
       "2022-12-28   22865.0     45494.0\n",
       "2022-12-29   11599.0     22922.0\n",
       "2022-12-30   11545.0     22799.0\n",
       "2022-12-31   23077.0     45751.0\n",
       "\n",
       "[365 rows x 2 columns]"
      ]
     },
     "execution_count": 12,
     "metadata": {},
     "output_type": "execute_result"
    }
   ],
   "source": [
    "dfa_roll = dfa.rolling(\"2D\").sum().rename(columns=dict(sum=\"sum_roll\", count=\"count_roll\"))"
   ]
  },
  {
   "cell_type": "code",
   "execution_count": 13,
   "metadata": {},
   "outputs": [],
   "source": [
    "dfa_roll[\"mean_roll\"] = (dfa_roll[\"sum_roll\"]/dfa_roll.loc[:, \"count_roll\"]) #.fillna(0)"
   ]
  },
  {
   "cell_type": "code",
   "execution_count": 14,
   "metadata": {},
   "outputs": [
    {
     "data": {
      "text/html": [
       "<div>\n",
       "<style scoped>\n",
       "    .dataframe tbody tr th:only-of-type {\n",
       "        vertical-align: middle;\n",
       "    }\n",
       "\n",
       "    .dataframe tbody tr th {\n",
       "        vertical-align: top;\n",
       "    }\n",
       "\n",
       "    .dataframe thead th {\n",
       "        text-align: right;\n",
       "    }\n",
       "</style>\n",
       "<table border=\"1\" class=\"dataframe\">\n",
       "  <thead>\n",
       "    <tr style=\"text-align: right;\">\n",
       "      <th></th>\n",
       "      <th>sum</th>\n",
       "      <th>count</th>\n",
       "      <th>sum_roll</th>\n",
       "      <th>count_roll</th>\n",
       "      <th>mean_roll</th>\n",
       "    </tr>\n",
       "  </thead>\n",
       "  <tbody>\n",
       "    <tr>\n",
       "      <th>2022-01-01</th>\n",
       "      <td>11325.0</td>\n",
       "      <td>22813.0</td>\n",
       "      <td>11325.0</td>\n",
       "      <td>22813.0</td>\n",
       "      <td>0.496427</td>\n",
       "    </tr>\n",
       "    <tr>\n",
       "      <th>2022-01-02</th>\n",
       "      <td>11501.0</td>\n",
       "      <td>22905.0</td>\n",
       "      <td>22826.0</td>\n",
       "      <td>45718.0</td>\n",
       "      <td>0.499278</td>\n",
       "    </tr>\n",
       "    <tr>\n",
       "      <th>2022-01-03</th>\n",
       "      <td>NaN</td>\n",
       "      <td>NaN</td>\n",
       "      <td>11501.0</td>\n",
       "      <td>22905.0</td>\n",
       "      <td>0.502117</td>\n",
       "    </tr>\n",
       "    <tr>\n",
       "      <th>2022-01-04</th>\n",
       "      <td>11271.0</td>\n",
       "      <td>22826.0</td>\n",
       "      <td>11271.0</td>\n",
       "      <td>22826.0</td>\n",
       "      <td>0.493779</td>\n",
       "    </tr>\n",
       "    <tr>\n",
       "      <th>2022-01-05</th>\n",
       "      <td>11373.0</td>\n",
       "      <td>22824.0</td>\n",
       "      <td>22644.0</td>\n",
       "      <td>45650.0</td>\n",
       "      <td>0.496035</td>\n",
       "    </tr>\n",
       "    <tr>\n",
       "      <th>...</th>\n",
       "      <td>...</td>\n",
       "      <td>...</td>\n",
       "      <td>...</td>\n",
       "      <td>...</td>\n",
       "      <td>...</td>\n",
       "    </tr>\n",
       "    <tr>\n",
       "      <th>2022-12-27</th>\n",
       "      <td>11266.0</td>\n",
       "      <td>22572.0</td>\n",
       "      <td>22621.0</td>\n",
       "      <td>45251.0</td>\n",
       "      <td>0.499901</td>\n",
       "    </tr>\n",
       "    <tr>\n",
       "      <th>2022-12-28</th>\n",
       "      <td>11599.0</td>\n",
       "      <td>22922.0</td>\n",
       "      <td>22865.0</td>\n",
       "      <td>45494.0</td>\n",
       "      <td>0.502594</td>\n",
       "    </tr>\n",
       "    <tr>\n",
       "      <th>2022-12-29</th>\n",
       "      <td>NaN</td>\n",
       "      <td>NaN</td>\n",
       "      <td>11599.0</td>\n",
       "      <td>22922.0</td>\n",
       "      <td>0.506020</td>\n",
       "    </tr>\n",
       "    <tr>\n",
       "      <th>2022-12-30</th>\n",
       "      <td>11545.0</td>\n",
       "      <td>22799.0</td>\n",
       "      <td>11545.0</td>\n",
       "      <td>22799.0</td>\n",
       "      <td>0.506382</td>\n",
       "    </tr>\n",
       "    <tr>\n",
       "      <th>2022-12-31</th>\n",
       "      <td>11532.0</td>\n",
       "      <td>22952.0</td>\n",
       "      <td>23077.0</td>\n",
       "      <td>45751.0</td>\n",
       "      <td>0.504404</td>\n",
       "    </tr>\n",
       "  </tbody>\n",
       "</table>\n",
       "<p>365 rows × 5 columns</p>\n",
       "</div>"
      ],
      "text/plain": [
       "                sum    count  sum_roll  count_roll  mean_roll\n",
       "2022-01-01  11325.0  22813.0   11325.0     22813.0   0.496427\n",
       "2022-01-02  11501.0  22905.0   22826.0     45718.0   0.499278\n",
       "2022-01-03      NaN      NaN   11501.0     22905.0   0.502117\n",
       "2022-01-04  11271.0  22826.0   11271.0     22826.0   0.493779\n",
       "2022-01-05  11373.0  22824.0   22644.0     45650.0   0.496035\n",
       "...             ...      ...       ...         ...        ...\n",
       "2022-12-27  11266.0  22572.0   22621.0     45251.0   0.499901\n",
       "2022-12-28  11599.0  22922.0   22865.0     45494.0   0.502594\n",
       "2022-12-29      NaN      NaN   11599.0     22922.0   0.506020\n",
       "2022-12-30  11545.0  22799.0   11545.0     22799.0   0.506382\n",
       "2022-12-31  11532.0  22952.0   23077.0     45751.0   0.504404\n",
       "\n",
       "[365 rows x 5 columns]"
      ]
     },
     "execution_count": 14,
     "metadata": {},
     "output_type": "execute_result"
    }
   ],
   "source": [
    "pd.concat([dfa, dfa_roll], axis=1)"
   ]
  },
  {
   "cell_type": "markdown",
   "metadata": {},
   "source": [
    "We may need to shift the data to reflect the time gap to data availability."
   ]
  },
  {
   "cell_type": "code",
   "execution_count": 15,
   "metadata": {},
   "outputs": [
    {
     "data": {
      "text/plain": [
       "2022-01-01         NaN\n",
       "2022-01-02    0.496427\n",
       "2022-01-03    0.499278\n",
       "2022-01-04    0.502117\n",
       "2022-01-05    0.493779\n",
       "                ...   \n",
       "2022-12-27    0.500683\n",
       "2022-12-28    0.499901\n",
       "2022-12-29    0.502594\n",
       "2022-12-30    0.506020\n",
       "2022-12-31    0.506382\n",
       "Freq: D, Name: mean_roll, Length: 365, dtype: float64"
      ]
     },
     "execution_count": 15,
     "metadata": {},
     "output_type": "execute_result"
    }
   ],
   "source": [
    "dfa_roll[\"mean_roll\"].shift(periods=1)"
   ]
  },
  {
   "cell_type": "markdown",
   "metadata": {},
   "source": [
    "We have computed the mean of the target variable y for data in group A by rolling over a time window. \n",
    "If the cardinality of the group is high, i.e. there are many groups, then the computation above has to be done for each group,\n",
    "and it is time consuming. "
   ]
  }
 ],
 "metadata": {
  "interpreter": {
   "hash": "b61258a403907825fd8de650a2547589d65cd53fe4af1274e080e8633870ec13"
  },
  "kernelspec": {
   "display_name": "Python 3.10.4 (conda)",
   "language": "python",
   "name": "python3"
  },
  "language_info": {
   "codemirror_mode": {
    "name": "ipython",
    "version": 3
   },
   "file_extension": ".py",
   "mimetype": "text/x-python",
   "name": "python",
   "nbconvert_exporter": "python",
   "pygments_lexer": "ipython3",
   "version": "3.10.4"
  },
  "orig_nbformat": 4
 },
 "nbformat": 4,
 "nbformat_minor": 2
}
